{
 "cells": [
  {
   "cell_type": "markdown",
   "id": "9fa3124d",
   "metadata": {},
   "source": [
    "# First Step: Create Distinct Images for Each Word"
   ]
  },
  {
   "cell_type": "code",
   "execution_count": 4,
   "id": "94945847",
   "metadata": {},
   "outputs": [],
   "source": [
    "from pathlib import Path\n",
    "from PIL import Image\n",
    "import numpy as np\n",
    "import lxml.etree as ET\n",
    "import csv, re, os\n",
    "from tqdm import tqdm\n",
    "\n",
    "# --- paths (adapt if your folders differ) --------------------------\n",
    "\n",
    "ROOT = Path(\"data/KWS\")               # root of the project\n",
    "PAGES_DIR = ROOT / \"images\"            # 271.jpg ...\n",
    "SVG_DIR   = ROOT / \"locations\"          # 271.svg ...\n",
    "INDEX_TSV = ROOT / \"transcription.tsv\"\n",
    "DEST_DIR  = ROOT / \"words\"            # crops will be created here\n",
    "DEST_DIR.mkdir(parents=True, exist_ok=True)"
   ]
  },
  {
   "cell_type": "code",
   "execution_count": 5,
   "id": "7ea19767",
   "metadata": {},
   "outputs": [
    {
     "name": "stdout",
     "output_type": "stream",
     "text": [
      "Total entries: 3726\n"
     ]
    },
    {
     "data": {
      "text/plain": [
       "[{'id': '270-01-01', 'keyword': 's_2s_7s_0s_pt'},\n",
       " {'id': '270-01-02', 'keyword': 'Letterss_cm'},\n",
       " {'id': '270-01-03', 'keyword': 'Orders'}]"
      ]
     },
     "execution_count": 5,
     "metadata": {},
     "output_type": "execute_result"
    }
   ],
   "source": [
    "index = []\n",
    "with INDEX_TSV.open() as f:\n",
    "    for locator,word in csv.reader(f, delimiter=\"\\t\"):\n",
    "        index.append({\n",
    "            \"id\": locator,\n",
    "            \"keyword\" : word.replace(\"-\", \"\")\n",
    "        })\n",
    "\n",
    "print(\"Total entries:\", len(index))\n",
    "index[:3]"
   ]
  },
  {
   "cell_type": "markdown",
   "id": "0d92393e",
   "metadata": {},
   "source": []
  },
  {
   "cell_type": "code",
   "execution_count": 6,
   "id": "ff27a798",
   "metadata": {},
   "outputs": [],
   "source": [
    "from svgpathtools import parse_path\n",
    "def bbox_from_svg(svg_path: Path, locator):\n",
    "    \"\"\"\n",
    "    Return (x, y, w, h) in SVG coordinate space for the path whose id is\n",
    "    exactly '{page:03d}-{line:02d}-{word:02d}', e.g. '270-01-03'.\n",
    "    \"\"\"\n",
    "    target_id = locator\n",
    "    elem = ET.parse(str(svg_path)).find(f\".//*[@id='{target_id}']\")\n",
    "    if elem is None:\n",
    "        raise ValueError(f\"id {target_id} not found in {svg_path.name}\")\n",
    "\n",
    "    # compute bbox from the path’s 'd' data\n",
    "    path = parse_path(elem.get(\"d\"))\n",
    "    xmin, xmax, ymin, ymax = path.bbox()\n",
    "    return xmin, ymin, xmax - xmin, ymax - ymin"
   ]
  },
  {
   "cell_type": "code",
   "execution_count": 7,
   "id": "4586ddcd",
   "metadata": {},
   "outputs": [
    {
     "name": "stderr",
     "output_type": "stream",
     "text": [
      "100%|██████████| 3726/3726 [00:50<00:00, 74.19it/s]\n"
     ]
    }
   ],
   "source": [
    "def svg_to_pixel_coords(svg_path: Path, jpg_path: Path, xywh):\n",
    "    \"\"\"Map SVG coords to JPEG pixel coords (assumes same aspect).\"\"\"\n",
    "    svg_width  = float((ET.parse(str(svg_path)).getroot().get(\"width\")).rstrip(\"px\"))\n",
    "    svg_height = float((ET.parse(str(svg_path)).getroot().get(\"height\")).rstrip(\"px\"))\n",
    "    img = Image.open(jpg_path)\n",
    "    img_w, img_h = img.size\n",
    "\n",
    "    scale_x = img_w / svg_width\n",
    "    scale_y = img_h / svg_height\n",
    "\n",
    "    x, y, w, h = xywh\n",
    "    return int(x*scale_x), int(y*scale_y), int(w*scale_x), int(h*scale_y)\n",
    "\n",
    "for rec in tqdm(index):\n",
    "    locator   = rec[\"id\"]\n",
    "    word   = rec[\"keyword\"]\n",
    "    page = locator.split(\"-\", 1)[0] \n",
    "\n",
    "    svg_path = SVG_DIR / f\"{page}.svg\"\n",
    "    jpg_path = PAGES_DIR / f\"{page}.jpg\"\n",
    "\n",
    "    # 1. locate bbox in SVG units\n",
    "    xywh_svg = bbox_from_svg(svg_path, locator)\n",
    "\n",
    "    # 2. map to pixel coords\n",
    "    x, y, w, h = svg_to_pixel_coords(svg_path, jpg_path, xywh_svg)\n",
    "\n",
    "    # 3. crop\n",
    "    img  = Image.open(jpg_path).convert(\"L\")        # grayscale\n",
    "    crop = img.crop((x, y, x+w, y+h))\n",
    "\n",
    "    # 4. save\n",
    "    dest_dir = DEST_DIR / word\n",
    "    dest_dir.mkdir(exist_ok=True)\n",
    "    out_path = dest_dir / f\"{locator}.png\"\n",
    "    crop.save(out_path)"
   ]
  },
  {
   "cell_type": "markdown",
   "id": "5acbf5bb",
   "metadata": {},
   "source": [
    "# Pre‑process each crop into a 1‑D feature sequence"
   ]
  },
  {
   "cell_type": "code",
   "execution_count": 8,
   "id": "270b5825",
   "metadata": {},
   "outputs": [],
   "source": [
    "import cv2, numpy as np\n",
    "from skimage.feature import hog\n",
    "\n",
    "def word_image_to_seq(png_path, strip_w=3, h_out=64):\n",
    "    img = cv2.imread(png_path, cv2.IMREAD_GRAYSCALE)\n",
    "    # 1. binarise & deskew (simple OTSU + moments)\n",
    "    _, bw = cv2.threshold(img, 0, 255, cv2.THRESH_BINARY_INV+cv2.THRESH_OTSU)\n",
    "    # TODO: add deskew if lines are slanted\n",
    "    # 2. resize height\n",
    "    h, w = bw.shape\n",
    "    scale = h_out / h\n",
    "    bw = cv2.resize(bw, (int(w*scale), h_out), interpolation=cv2.INTER_NEAREST)\n",
    "    # 3. sliding window\n",
    "    seq = []\n",
    "    for x in range(0, bw.shape[1]-strip_w+1):\n",
    "        strip = bw[:, x:x+strip_w]\n",
    "        hfeat = hog(strip, orientations=8, pixels_per_cell=(h_out, strip_w),\n",
    "                    cells_per_block=(1,1), feature_vector=True)\n",
    "        upper = h_out - np.argmax(strip[::-1].any(axis=1))\n",
    "        lower = np.argmax(strip.any(axis=1))\n",
    "        density = strip.mean()\n",
    "        seq.append(np.r_[hfeat, upper, lower, density])\n",
    "    return np.vstack(seq)        # shape (T, n_feat)"
   ]
  },
  {
   "cell_type": "code",
   "execution_count": 9,
   "id": "4354d51c",
   "metadata": {},
   "outputs": [
    {
     "name": "stdout",
     "output_type": "stream",
     "text": [
      "{'Firelock': 1, 'weight': 1, 'Willis_mi': 1, 'your': 32, 'Cumberland': 4, 'attendance': 1, 'goes': 1, 'alreadys_cm': 1, 'rer': 1, 'Commis_ssary': 4, 'Honor': 4, 'Kets_mi': 1, 'inform': 1, 'hear': 2, 'eight': 7, 'Majors_cm': 1, 'Forts_cm': 1, 'paper': 2, 'arms_cm': 1, 'disobedience': 1, 'man': 2, 'ence': 1, 'Dispositionss_cm': 1, 'Fergusons_cm': 1, 'returned': 1, 'Busines_sss_cm': 1, 'Regiments_qo': 2, 'Hoggs_cm': 1, 'Winters_pt': 1, 'safe': 1, 'opportunity': 3, 'bys_cm': 1, 'ors_mi': 2, 'pains': 1, 'silvers_qo': 1, 'Honourable': 1, 'Williamsburghs_cm': 1, 'thems_cm': 3, 'given': 6, 'Bronaughs_cm': 1, 'keep': 1, 'Plantation': 1, 'Order': 5, 'Shirleys_cm': 1, 'deserteds_cm': 1, 's_GW': 10, 'Livings_mi': 1, 'month': 1, 'apply': 2, 'cans_pt': 1, 'berlands_cm': 1, 'most': 3, 'Instructions': 1, 'fore': 1, 'Peter': 1, 'hundred': 3, 'cases_cm': 2, 'confidents_cm': 1, 'Cumberlands_pt': 2, 'fastening': 1, 'Laws_cm': 1, 'gonss_cm': 1, 'hastened': 1, 'Recruit': 2, 'peremptorilys_cm': 1, 'requires_pt': 1, 'Musquetss_sq': 1, 'Stewarts_cm': 1, 'Bayonetss_cm': 1, 'Nursess_cm': 1, 'Governors_pt': 1, 'Bills_sq': 1, 'dered': 1, 'Carolinas_qo': 1, 'Commis_ssions_pt': 1, 'ting': 1, 'withs_pt': 2, 'Committee': 1, 'Blegg': 1, 'little': 2, 'Hand': 2, 'Shirtss_sq': 1, 'next': 2, 'Winchester': 2, 'Lewis': 2, 'partss_qo': 1, 'slows_pt': 1, 'Captain': 23, 'allowance': 1, 'impos_ssible': 1, 'punctually': 1, 'Captains': 1, 'immediates_mi': 1, 'sure': 1, 'Dags_mi': 1, 'disappointed': 1, 'Stockades': 1, 'several': 1, 'ted': 1, 'Washingtons_cm': 1, 'neither': 2, 'gives': 1, 'apprehending': 1, 'commis_ssarys_cm': 1, 'directions': 1, 'Bearers_cm': 2, 'augmens_mi': 1, 'serviceable': 1, 'Paymasters_pt': 1, 'ofs_mi': 1, 'is_ssue': 1, 'hims_pt': 3, 'having': 4, 'Springs_pt': 1, 'Stockingss_cm': 1, 'fifty': 2, 'bore': 1, 'wait': 3, 'Returnss_cm': 1, 'trouble': 1, 'James': 1, 'can': 15, 'Rivers_cm': 1, 'payments_pt': 1, 'either': 1, 'arts': 1, 'Recruitings_cm': 1, 'Soldier': 2, 'Court': 2, 'George': 1, 'intended': 2, 'Virginia': 9, 'ons': 1, 'alsos_pt': 1, 'think': 3, 'Williamsburgh': 1, 'times_cm': 1, 'Barrels': 1, 'attended': 1, 'places_cm': 2, 'he': 16, 'proper': 3, 'alterns': 1, 'its_qo': 2, 'regard': 1, 'upon': 5, 'Flemings_cm': 2, 'prevent': 1, 'result': 1, 'Clothings_sq': 1, 'Letters': 7, 'neces_ssarys_cm': 1, 'tings_sq': 1, 'room': 1, 'last': 1, 'Cumberlands_br': 1, 'proceed': 1, 'Fredericksburgs_cm': 1, 'by': 16, 'Tins_cm': 1, 'Books_cm': 1, 'days_cm': 1, 'Sergeant': 7, 'paids_cm': 1, 'months_cm': 2, 'few': 1, 'Winchesters_qo': 1, 'go': 6, 'Governor': 2, 'structions': 1, 'happens_sq': 1, 'answer': 1, 'loaded': 1, 'Septembers_pt': 1, 'large': 1, 'roll': 1, 'Colonel': 6, 'burg': 1, 'Gentlemen': 1, 'Ocs_mi': 1, 'belong': 1, 's_5ths_pt': 3, 'apprehended': 1, 'loose': 1, 'genes_mi': 1, 'cas_mi': 1, 'remedy': 1, 'did': 1, 'every': 4, 'needful': 1, 'mean': 1, 'Beef': 1, 'with': 43, 'observing': 1, 'whose': 1, 'Hoggs_qts': 2, 'October': 15, 'ble': 1, 'not': 16, 'morrows_cm': 1, 'made': 7, 'Subalterns_cm': 2, 'received': 3, 'mens_cm': 4, 'arrive': 6, 'Bill': 1, 'am': 5, 'Establishments_pt': 1, 'could': 2, 'raise': 1, 'ever': 1, 'Stephenss_cm': 1, 'theres_cm': 2, 'immes_mi': 1, 'often': 2, 'yous_cm': 1, 'accompts': 1, 'lays': 1, 'be': 53, 'our': 8, 'inconves_mi': 1, 'proceedings': 1, 'careful': 3, 'his': 12, 'tried': 1, 'executes_pt': 1, 'Clenachans_cm': 1, 'many': 3, 'join': 3, 'allowed': 3, 'Carters_cm': 1, 'Hospitals_cm': 1, 'submit': 1, 'eleven': 1, 'Carlyle': 1, 'alloweds_pt': 1, 'entirely': 1, 'mores_sq': 1, 'then': 1, 'direct': 2, 'care': 1, 'Pattersons': 1, 'how': 4, 'slaughters_pt': 1, 'have': 18, 'mand': 1, 'greats_mi': 1, 'aboves_cm': 2, 'objection': 1, 'effects_pt': 1, 'thousand': 3, 'non': 1, 'Drummers_cm': 2, 'hoping': 1, 'der': 1, 'boths_sq': 2, 'inconceivable': 1, 'Drummer': 1, 'way': 2, 'giving': 1, 'works_cm': 1, 's_lbs_1s_0s_0s_0': 1, 'Coopers': 2, 'merss_cm': 1, 'Evilss_cm': 1, 'Rendezvous': 3, 'honoured': 1, 'orderss_mi': 2, 'do': 5, 'December': 6, 'no': 8, 'Clothes': 2, 'Garrisons_pt': 1, 'Boyds_cm': 1, 'Party': 1, 'fors_cm': 1, 'purchasing': 2, 'ters_sq': 1, 'those': 8, 'since': 1, 'directing': 1, 'Corbin': 1, 'desired': 3, 'been': 1, 'belonging': 1, 'paymentss_qo': 1, 'Borders': 1, 'stopped': 1, 'out': 4, 'oblige': 1, 'los_sses': 1, 'greatests_pt': 1, 'saries': 1, 'greater': 1, 'Kings_cm': 1, 'mediciness_cm': 1, 'rooms_pt': 1, 'would': 11, 'Camps_pt': 2, 'complete': 3, 'Demands': 1, 'belongs_mi': 1, 'encreaseds_cm': 1, 'Cattle': 2, 'nor': 1, 'being': 6, 'expected': 2, 'These': 4, 'spect': 1, 's_2s_7s_0s_pt': 1, 'times_pt': 2, 'uses_cm': 1, 'secureds_cm': 1, 'acquainted': 2, 'niencys_pt': 1, 'Surgeon': 1, 's_2s_6ths_pt': 2, 'General': 3, 'respective': 1, 'examine': 1, 'once': 1, 'Spotswoods_cm': 1, 'Honour': 4, 'Breechess_cm': 1, 'compts': 1, 'Regiments': 1, 'morrow': 1, 'bers_cm': 1, 'put': 1, 'until': 8, 'knowledges_pt': 1, 'enlisted': 1, 'falling': 1, 'irregus_mi': 1, 'exers_mi': 1, 'theirs': 1, 'tober': 1, 'never': 2, 'therefore': 1, 's_etcs_pt': 18, 'Soldiers': 1, 'against': 1, 'usual': 1, 'fereds_pt': 1, 'Ves_ss_mi': 1, 'sess_sq': 1, 'neces_ssaries': 3, 'Mcs_pt': 1, 'endeavours': 1, 'hims_cm': 4, 'than': 6, 'plan': 1, 'propers_pt': 1, 'gladly': 1, 'Compas_mi': 1, 'first': 1, 'Toolss_cm': 1, 'presents_cm': 1, 'commis_ssioned': 2, 'Bearers_pt': 1, 'Stephen': 2, 'Waggener': 1, 'neces_ssary': 3, 'Suits': 1, 'in': 36, 'deductions': 1, 'Clothing': 3, 'quainted': 1, 'hereafs_mi': 1, 'reasonable': 1, 'Barrel': 1, 'without': 2, 'harbouring': 1, 'particular': 4, 'cembers_sq': 1, 'Officers': 5, 'Alexs_mi': 1, 'Surgeons_cm': 2, 'lodged': 1, 'Esquires_cm': 1, 'nine': 2, 'inclosing': 1, 'Councils_cm': 1, 'times': 2, 'dispatch': 2, 'Contracts': 1, 's_2s_7s_1s_pt': 1, 'leaves': 1, 'utmost': 1, 's_2s_7s_3s_pt': 1, 'Houses': 1, 'existss_qo': 1, 'poundss_cm': 1, 'sel': 1, 'andrias_pt': 1, 'else': 1, 'ones': 1, 'sundry': 1, 's_bltaking': 1, 'distances_cm': 1, 'arrives_cm': 2, 'had': 6, 'Cumberlands_cm': 4, 'represented': 1, 'lay': 1, 'Rangers': 1, 'strong': 1, 'killed': 1, 'Each': 5, 'accordinglys_pt': 1, 'Wilpers_cm': 3, 'taken': 1, 'It': 17, 'its_sq': 1, 'Pork': 1, 'continued': 1, 'Law': 1, 'offs_pt': 1, 'Williamss_mi': 1, 'efs_mi': 1, 'oftens_cm': 1, 'see': 18, 'thems_pt': 2, 'is': 35, 'Stores_pt': 1, 'Hats': 1, 'Williamsburghs_pt': 1, 'Doctor': 1, 'appear': 1, 'Salts_pt': 2, 'that': 51, 'vigours_pt': 1, 'Draughts': 1, 'here': 5, 'Creeks_cm': 1, 'Drum': 1, 'Instructionss_pt': 15, 'Octos_mi': 1, 'shall': 8, 'Directis_mi': 1, 'if': 21, 'Forts_pt': 1, 'Shirley': 1, 'count': 1, 'Robert': 2, 'advisable': 1, 'accounts_cm': 1, 'reinforce': 1, 'Ves_ssel': 3, 'delaying': 2, 'ly': 1, 'paying': 1, 'pres_ss': 1, 'other': 5, 'knows_cm': 1, 'terms': 2, 'absolutely': 1, 'plunder': 1, 'Wilper': 3, 'Commis_ssions': 1, 'Flints': 1, 's_2s_7s_2s_pt': 1, 'from': 21, 'prove': 1, 'forty': 1, 'cised': 1, 'Honours_cm': 1, 'Stephens_cm': 1, 's_2s_7s_6s_pt': 1, 'getting': 1, 'left': 4, 'halt': 2, 'camps_cm': 1, 'came': 3, 'enter': 2, 'Mercer': 2, 'Treasus_mi': 1, 'intens_mi': 1, 'great': 3, 'pay': 7, 'Prices_sq': 1, 's_6ths_pt': 1, 'Provisionss_sq': 2, 'Caps_mi': 1, 'Rangerss_cm': 1, 'letters_cm': 1, 'Estas_mi': 1, 'ately': 2, 'affairs': 1, 'Dick': 2, 'Partys_cm': 1, 'All': 12, 's_3s_0ths_pt': 1, 'mes_pt': 3, 'displeased': 1, 'remarkably': 1, 'Mrs_pt': 5, 'Drums_mi': 1, 'Stockings': 1, 'laid': 1, 'concerns_sq': 1, 'got': 2, 'Garrisons_cm': 1, 'get': 2, 'I': 49, 'sames_br': 1, 'Stores': 1, 'Peachy': 1, 'best': 4, 'povertys_sq': 1, 'distinguishes': 1, 'works_pt': 1, 'the': 190, 'pillage': 2, 'Kettless_qo': 1, 'Ammus_mi': 1, 'but': 7, 'Coms_mi': 2, 'haves_cm': 2, 'balance': 2, 'Regimental': 1, 'obliged': 1, 'regularly': 1, 'ominouss_pt': 2, 'sees_mi': 1, 'Pays_miRollss_sq': 1, 'Commis_ssaries': 1, 'downs_cm': 1, 'whatsoevers_cm': 1, 'receives_pt': 1, 'camp': 1, 'dispatchs_pt': 2, 'mediately': 1, 'Letter': 1, 'Churchs_cm': 1, 'Indians': 1, 'chief': 1, 'otherss_cm': 3, 'should': 9, 'deliver': 4, 'act': 3, 's_2s_7s_7s_pt': 1, 'suffer': 2, 'Return': 4, 'Dutys_qo': 1, 'Flours_cm': 1, 'Recruis_mi': 2, 'onlys_pt': 1, 'Walkers_cm': 1, 's_2s_7s_5s_pt': 1, 'Ammunitions_cm': 1, 'tually': 1, 'we': 11, 'dependance': 1, 'about': 4, 'immediate': 1, 'yous_pt': 2, 'arriveds_pt': 1, 'wanteds_cm': 1, 'theres_pt': 2, 'vous': 1, 'distincs_mi': 1, 'completely': 1, 'sent': 9, 'servitude': 1, 'men': 17, 'subsistance': 1, 'riding': 1, 'peace': 1, 'poor': 1, 'dies_cm': 2, 'Mens_pt': 1, 'Mercers_qts': 1, 'engage': 4, 'escort': 1, 'pounds': 1, 'Fras_mi': 1, 'marchs_sq': 2, 'properly': 1, 'bringing': 1, 'Military': 2, 'Yesterday': 1, 'paid': 3, 'acts_cm': 1, 'their': 6, 'small': 1, 'Des_mi': 4, 'yourself': 2, 'a': 26, 'Major': 3, 'come': 1, 'Plantationss_pt': 1, 'neces_ss_mi': 1, 'through': 2, 'Field': 1, 'filled': 1, 'much': 4, 'kind': 3, 'days_pt': 1, 'Drumss_pt': 1, 'journey': 1, 'circums_mi': 1, 'Cars_mi': 1, 'turn': 1, 'quantity': 3, 'dids_cm': 1, 'coulds_cm': 1, 'gage': 1, 'Countrys_cm': 2, 'Companys_sq': 2, 'want': 4, 'immediatelys_pt': 1, 'Courts_pt': 1, 'more': 5, 's_2s_7s_4s_pt': 1, 'awkwards_cm': 1, 'appointeds_pt': 1, 'Cumberlands_sq': 1, 'Berrels': 1, 's_3s_1sts_pt': 1, 'too': 1, 'useles_ss': 1, 'time': 5, 'seems': 1, 'three': 1, 'Wils_mi': 1, 'poundss_sq': 1, 'solute': 1, 'Winchesters_cm': 3, 'between': 2, 'dayss_cm': 1, 'waistcoatss_cm': 2, 'receive': 7, 'Armss_cm': 4, 'nitions_cm': 1, 'observe': 1, 'Corporals_cm': 2, 'withs_sq': 1, 'Beeves': 1, 'unles_ss': 3, 'Tars_mi': 1, 'Speakers_pt': 1, 'number': 1, 'res_mi': 1, 'Augusta': 1, 'Clocks_cm': 1, 'clos_mi': 1, 'arrived': 2, 'its_cm': 1, 'supply': 1, 'below': 1, 'enlisteds_pt': 1, 'cans_sq': 1, 'Eustaces_cm': 1, 'blishments_pt': 1, 'appointed': 4, 'inclination': 1, 'Cums_mi': 1, 's_1s_7s_5s_5s_pts_2s_7s_9s_pt': 1, 'Ins_mi': 1, 'Companiess_cm': 3, 'use': 4, 'parish': 1, 'effecs_mi': 1, 'Blank': 1, 'particus_mi': 1, 'arriveds_qo': 1, 'diss_mi': 1, 'any': 13, 'burghs_cm': 2, 'Winters_sq': 1, 'ours': 1, 'Sirs_cm': 2, 'so': 10, 'Grain': 1, 'Conways_pt': 1, 'seeing': 1, 'gold': 1, 'mens_qo': 1, 's_1s_7s_5s_5s_pt': 19, 'removeds_cm': 1, 'Salt': 1, 'morthys_cm': 1, 'wanting': 2, 'further': 2, 'Treasurer': 1, 'Troops': 1, 's_2s_7s_8s_pt': 1, 'per': 3, 'amsburghs_cm': 1, 'Fort': 17, 'spared': 1, 'designs_qo': 1, 'Sergeants': 1, 'long': 1, 'Lieutenant': 7, 'perhaps': 1, 's_mi': 40, 'prevailed': 1, 'Breechess_sq': 1, 'heres_pt': 1, 'pays_cm': 2, 'disobedis_mi': 1, 'As_ssembly': 1, 'receipt': 1, 'certain': 1, 'myselfs_pt': 1, 'Recruitss_pt': 1, 'carry': 2, 'rals_cm': 1, 'couns_mi': 1, 'wrote': 1, 'Beefs_sq': 1, 'Carolina': 1, 'Magazine': 1, 'may': 5, 'ares_pt': 1, 'Robinson': 1, 'Alexandris_mi': 1, 'making': 1, 'exs_mi': 3, 'will': 24, 'Charles': 1, 'Independant': 1, 'moneys_cm': 2, 'ing': 2, 'call': 1, 'complied': 3, 's_blas': 1, 'and': 97, 'Drums_cm': 1, 'whatever': 2, 'ims_mi': 2, 'done': 1, 'Sunday': 1, 'offerss_pt': 1, 'tremely': 1, 'ens_mi': 2, 'Orderss_pt': 1, 'los_ss': 1, 'soon': 7, 'one': 10, 'adjutant': 1, 'said': 3, 'ten': 7, 'Quarterlys_pt': 1, 'brought': 1, 'ved': 1, 'Fleming': 1, 'presents_sq': 1, 'meeting': 2, 'David': 1, 'deads_cm': 1, 'constant': 1, 'fulls_pt': 1, 'private': 3, 'Accounts': 1, 'sufficient': 1, 'very': 5, 'Esquires_sq': 1, 'deducted': 1, 'Cooperss_cm': 1, 'ordereds_cm': 3, 's_3s_cm': 1, 'Expampless_cm': 1, 'good': 5, 'forwarded': 1, 'durations_pt': 1, 'Hogg': 1, 'fective': 1, 'Duncan': 1, 'believes_cm': 1, 'Decembers_cm': 2, 'take': 4, 'up': 10, 'immediately': 5, 'Regiments_cm': 1, 'secure': 1, 'Troopss_pt': 1, 'waiting': 1, 'now': 8, 'Receptacle': 1, 's_2s_8ths_pt': 4, 'terss_cm': 1, 'twelve': 3, 'complained': 1, 'they': 25, 'contracted': 2, 'elses_pt': 1, 'make': 5, 'horses': 1, 'execution': 1, 's_1sts_pt': 9, 'teaching': 1, 'Martials_cm': 1, 'Whichever': 1, 'impos_ssibles_sq': 1, 'draughs_mi': 1, 'marchs_cm': 1, 'an': 6, 'Alexandria': 2, 'were': 4, 'me': 7, 'Williamss_cm': 1, 'obviates_cm': 1, 'offices_cm': 1, 'money': 8, 's_1s_7ths_pt': 1, 'Shaws_cm': 1, 'bes_br': 1, 'list': 1, 'termanded': 1, 'is_ptes_pt': 1, 'must': 16, 'Creek': 1, 'Hatss_cm': 1, 'zier': 1, 'ins_sq': 1, 'acts_sq': 2, 'est': 1, 'pence': 2, 'my': 2, 'fix': 1, 'who': 6, 'people': 2, 'settle': 2, 'Colonels': 1, 'glad': 3, 'hereby': 7, 'Companys_cm': 9, 'keeping': 1, 'Stores_qo': 1, 'nothing': 3, 'Williamsburghs_qo': 1, 'Book': 1, 'dones_cm': 1, 'provisionss_cm': 2, 'handss_cm': 2, 'Reasmerss_pt': 1, 'Detachments_pt': 1, 'useful': 1, 'Sore': 1, 'tridgess_pt': 1, 'as_ssigned': 1, 'regularlys_cm': 1, 'mention': 1, 'uss_qo': 1, 'Teams': 1, 'better': 2, 'examination': 1, 'before': 4, 'November': 2, 'mount': 1, 'into': 3, 'Sens_mi': 1, 'for': 54, 'two': 4, 'undertaking': 1, 'strict': 1, 'House': 1, 'disciplines_cm': 1, 'thoughtss_pt': 1, 'such': 6, 'Hoggs': 4, 'ters_pt': 1, 'Stews_mi': 1, 'Fredericksburghs_cm': 1, 'Hedgemans_cm': 1, 'This': 20, 'Rangerss_sq': 1, 'peaceable': 1, 'him': 5, 'judge': 1, 'times_qo': 1, 'herdsmen': 1, 'at': 35, 'purchase': 1, 'what': 7, 'rokee': 1, 'days': 1, 'Bell': 2, 'greatly': 2, 'de': 4, 'Commonalty': 1, 'dezvous': 1, 'stoppeds_cm': 1, 'was': 10, 'as': 39, 'idemnitys_pt': 1, 'receives': 1, 'them': 9, 'relieved': 1, 'thed': 1, 'purpose': 1, 'covered': 1, 'Waggons': 2, 'Maryland': 2, 'downs_sq': 1, 'according': 1, 'ny': 1, 'ills_cm': 1, 'Ashby': 1, 'thirty': 3, 'mens': 1, 'plys_cm': 1, 'pars_mi': 1, 'Officer': 5, 'case': 1, 'Mercers_cm': 1, 'Dinwiddies_cm': 1, 'Decembers_pt': 3, 'near': 1, 'purposes_pt': 1, 'practised': 1, 'carrys_pt': 1, 'John': 4, 'only': 4, 'cares_mi': 1, 'dare': 1, 'are': 68, 'Light': 1, 'late': 2, 'has': 9, 'Shirtss_cm': 1, 'publick': 1, 'published': 1, 'Expeditions_cm': 1, 's_3s_0s_0s_pt': 1, 'commands': 1, 'Parole': 2, 'down': 4, 'diately': 1, 's_mis_pt': 1, 'aps_mi': 1, 'furnish': 1, 'Delays': 1, 'know': 3, 'Breads_sq': 1, 'twenty': 6, 'own': 2, 'qualified': 1, 'lar': 1, 'dutys_cm': 1, 'offers_sq': 1, 'knew': 1, 'command': 4, 'happen': 1, 'things': 2, 'after': 3, 'desire': 2, 'forgot': 1, 'shoulds_cm': 1, 'Ches_mi': 1, 'os_qtclocks_pt': 1, 'expence': 1, 'salteds_pt': 1, 'admits_sq': 1, 'ares_cm': 1, 'Dinwiddie': 1, 'pas_ss': 2, 'informing': 2, 'Returns': 2, 'part': 2, 'might': 3, 'remains': 2, 'ought': 2, 'also': 9, 'You': 78, 'heres_cm': 4, 'morally': 1, 'there': 14, 'of': 95, 'Orders': 21, 'Nicholas': 1, 'remain': 1, 'Winchess_mi': 1, 'wags_mi': 1, 'Horsess_cm': 1, 'nons_mi': 1, 'when': 10, 'march': 3, 'furnished': 1, 'six': 2, 'serve': 1, 'slip': 1, 'set': 1, 'duly': 1, 'Alexandrias_qo': 2, 'Hamptons_pt': 1, 'account': 3, 'Service': 2, 'Break': 1, 'Guard': 2, 'Dalton': 1, 'Salts_sq': 1, 'joinss_cm': 1, 'windows': 1, 'Regiment': 2, 'or': 15, 'Desers_mi': 1, 'whether': 1, 'Crime': 1, 'enough': 3, 'impos_ssis_mi': 1, 'eighty': 1, 'Pennsylvania': 1, 'Ohios_br': 1, 'furnishs_cm': 1, 'Rendezs_mi': 1, 'yet': 4, 's_blI': 1, 'Force': 1, 'Forts_sq': 1, 'printeds_cm': 1, 'place': 5, 'desert': 1, 'Arms': 5, 'bes_cm': 1, 'day': 5, 'deserted': 1, 'ars_mi': 1, 'aquaint': 1, 'Thiss_cm': 1, 'its_pt': 2, 'Cattles_cm': 1, 'Sergeantss_cm': 1, 'Joness_cm': 1, 'Shirleys_sq': 1, 'wanted': 2, 's_3s_0s_2s_pt': 1, 'Blanketss_pt': 1, 'Cockess_qt': 1, 'liver': 1, 'impatiently': 1, 'none': 4, 'Bills_cm': 1, 'Warrantss_cm': 1, 'give': 4, 'ignorance': 1, 'properlys_pt': 1, 'Shoes': 1, 'Bacon': 1, 'where': 3, 'theres_mi': 1, 'save': 1, 'on': 14, 'Horse': 1, 'send': 5, 'immedis_mi': 2, 'ways_cm': 1, 'arrival': 1, 'some': 7, 'Adam': 1, 'Rens_mi': 1, 'Hall': 1, 'hences_pt': 1, 'reach': 1, 'larities': 1, 'yours': 1, 'Regimentss_cm': 1, 'Ns_ptBs_pt': 2, 'Committees_sq': 1, 'teds_cm': 1, 'Barracks': 1, 'provided': 1, 'appros_mi': 1, 'payments_qo': 1, 'Cartouchs_mi': 1, 'delivered': 4, 'duty': 1, 'provisions': 1, 'Augustas_cm': 1, 'tain': 1, 's_1s_7s_5s_5': 1, 'as_cm': 1, 'draw': 1, 'pas_ssing': 1, 'driving': 1, 'Subs_mi': 1, 'suppose': 1, 'under': 4, 'while': 2, 's_1st': 1, 's_blwho': 1, 'unfit': 1, 'getss_sq': 1, 'Sellars': 1, 'Ferguson': 1, 'country': 3, 'repair': 2, 'stons_cm': 1, 'intimate': 1, 'requires': 1, 'observeds_pt': 1, 'Coatss_cm': 2, 's_2s_8th': 1, 'answers_cm': 1, 'fearing': 1, 'ties': 1, 'engaged': 1, 'clause': 1, 'Honours': 1, 'marks_cm': 1, 'returneds_cm': 1, 'Ensign': 6, 'occasion': 2, 'five': 2, 'mediciness_sq': 1, 'recruiting': 3, 'Rendezvousing': 1, 'expences_cm': 1, 'mutiny': 1, 'which': 25, 'sustained': 1, 'Bayonets': 1, 'within': 1, 'danger': 1, 'provide': 4, 'Joshua': 1, 'Companies': 2, 'Coffins_cm': 1, 'sensibles_cm': 1, 'to': 190, 'waggonss_cm': 1, 'least': 1, 'Companys_pt': 2, 'stoppages': 1, 'doubtfuls_sq': 1, 'rest': 1, 'Ashbys_qts': 1, 'Letterss_cm': 10, 'Sergeants_cm': 2, 'places_sq': 1, 'leave': 3, 'pos_ssible': 1, 'ordered': 11, 'disagreement': 1, 'conscious': 1, 'Aid': 4, 'Orderly': 1, 'Frederickss_mi': 2, 'imagine': 1, 'Pennsylvanias_cm': 1, 'forward': 1, 'safetys_qo': 1, 'tencess_cm': 1, 'ful': 1, 'Boxs_qtss_cm': 1, 'Recruits': 5, 'Stewartss_qo': 1, 'ups_mi': 1, 'told': 1, 'correspond': 1, 's_qos_mi': 1, 'Goose': 1, 'abs_mi': 1, 'days_sq': 1, 'Hons_mi': 1, 'Octos_pt': 1, 'completes_sq': 1, 's_2s_9ths_pt': 6, 'suffice': 1, 's_blor': 1, 'mens_sq': 2, 'opinions_pt': 1, 'acs_mi': 3, 'Reports': 1, 'tion': 2, 'same': 1, 'shooting': 1, 'Company': 7, 'Lodging': 1, 's_3s_0s_4s_pt': 1, 'Shoess_pt': 1, 'particularly': 2, 'believe': 1, 'another': 1, 'yous_sq': 1, 'conceives_cm': 1, 'rival': 1, 'packing': 1, 's_2s_8ths_cm': 1, 'channels_pt': 1, 'mis_ssary': 1, 'pair': 3, 'expect': 3, 'repairing': 1, 'Troopss_cm': 2, 'Regiments_pt': 7, 'cover': 1, 'off': 3}\n"
     ]
    }
   ],
   "source": [
    "import pickle, glob, tqdm, collections\n",
    "\n",
    "LIB_PATH = Path(\"data/KWS/templates.pkl\")\n",
    "library  = collections.defaultdict(list)\n",
    "\n",
    "for kw_dir in DEST_DIR.iterdir():\n",
    "    for png in kw_dir.glob(\"*.png\"):\n",
    "        seq = word_image_to_seq(png)\n",
    "        library[kw_dir.name].append(seq)\n",
    "\n",
    "with open(LIB_PATH, \"wb\") as f:\n",
    "    pickle.dump(library, f)\n",
    "\n",
    "print({k: len(v) for k,v in library.items()})   # how many templates per keyword"
   ]
  }
 ],
 "metadata": {
  "kernelspec": {
   "display_name": ".venv",
   "language": "python",
   "name": "python3"
  },
  "language_info": {
   "codemirror_mode": {
    "name": "ipython",
    "version": 3
   },
   "file_extension": ".py",
   "mimetype": "text/x-python",
   "name": "python",
   "nbconvert_exporter": "python",
   "pygments_lexer": "ipython3",
   "version": "3.12.7"
  }
 },
 "nbformat": 4,
 "nbformat_minor": 5
}
