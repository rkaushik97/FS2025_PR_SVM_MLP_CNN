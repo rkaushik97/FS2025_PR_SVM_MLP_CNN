{
  "cells": [
    {
      "cell_type": "code",
      "execution_count": 6,
      "metadata": {
        "id": "1aEFvdzVtjMA"
      },
      "outputs": [],
      "source": [
        "import matplotlib.pyplot as plt\n",
        "import pandas as pd\n",
        "import seaborn as sns\n",
        "import os\n",
        "import numpy as np\n",
        "from PIL import Image\n",
        "from sklearn.model_selection import train_test_split\n",
        "import torch\n",
        "import torch.nn as nn\n",
        "import torch.optim as optim\n",
        "from torch.utils.data import Dataset, DataLoader\n",
        "from torchvision import transforms"
      ]
    },
    {
      "cell_type": "code",
      "execution_count": null,
      "metadata": {
        "id": "DHtEYBZv51ow"
      },
      "outputs": [],
      "source": [
        "class MNISTDataset(Dataset):\n",
        "    def __init__(self, root_dir, tsv_file=None, transform=None):\n",
        "        self.transform = transform\n",
        "        self.samples = []\n",
        "        if tsv_file:\n",
        "            with open(tsv_file, 'r') as f:\n",
        "                for line in f:\n",
        "                    path, label = line.strip().split('\\t')\n",
        "                    self.samples.append((os.path.join(root_dir, path), int(label)))\n",
        "        else:\n",
        "            for label in sorted(os.listdir(root_dir)):\n",
        "                label_dir = os.path.join(root_dir, label)\n",
        "                if os.path.isdir(label_dir):\n",
        "                    for img_name in os.listdir(label_dir):\n",
        "                        self.samples.append((os.path.join(label_dir, img_name), int(label)))\n",
        "\n",
        "    def __len__(self):\n",
        "        return len(self.samples)\n",
        "\n",
        "    def __getitem__(self, idx):\n",
        "        img_path, label = self.samples[idx]\n",
        "        image = Image.open(img_path).convert('L')\n",
        "        if self.transform:\n",
        "            image = self.transform(image)\n",
        "        else:\n",
        "            image = transforms.ToTensor()(image)\n",
        "        image = image.view(-1)\n",
        "        return image, label"
      ]
    },
    {
      "cell_type": "code",
      "execution_count": 7,
      "metadata": {
        "id": "4LWsWxh41qOE"
      },
      "outputs": [],
      "source": [
        "class MLP(nn.Module):\n",
        "    def __init__(self, input_size, hidden_size, output_size):\n",
        "        super(MLP, self).__init__()\n",
        "        self.fc1 = nn.Linear(input_size, hidden_size)\n",
        "        self.relu = nn.ReLU()\n",
        "        self.fc2 = nn.Linear(hidden_size, output_size)\n",
        "\n",
        "    def forward(self, x):\n",
        "        out = self.fc1(x)\n",
        "        out = self.relu(out)\n",
        "        out = self.fc2(out)\n",
        "        return out"
      ]
    },
    {
      "cell_type": "code",
      "execution_count": 8,
      "metadata": {
        "id": "xwiQEh-O1-yS"
      },
      "outputs": [],
      "source": [
        "def train_model(model, train_loader, criterion, optimizer, device):\n",
        "    model.train()\n",
        "    running_loss = 0.0\n",
        "    for images, labels in train_loader:\n",
        "        images, labels = images.to(device), labels.to(device)\n",
        "        optimizer.zero_grad()\n",
        "        outputs = model(images)\n",
        "        loss = criterion(outputs, labels)\n",
        "        loss.backward()\n",
        "        optimizer.step()\n",
        "        running_loss += loss.item() * images.size(0)\n",
        "    return running_loss / len(train_loader.dataset)"
      ]
    },
    {
      "cell_type": "code",
      "execution_count": 9,
      "metadata": {
        "id": "wB6_EAOi2Nqv"
      },
      "outputs": [],
      "source": [
        "def evaluate_model(model, loader, device):\n",
        "    model.eval()\n",
        "    correct = 0\n",
        "    total = 0\n",
        "    with torch.no_grad():\n",
        "        for images, labels in loader:\n",
        "            images, labels = images.to(device), labels.to(device)\n",
        "            outputs = model(images)\n",
        "            _, predicted = torch.max(outputs.data, 1)\n",
        "            total += labels.size(0)\n",
        "            correct += (predicted == labels).sum().item()\n",
        "    return correct / total"
      ]
    },
    {
      "cell_type": "code",
      "execution_count": null,
      "metadata": {
        "id": "wI1uQcZO1_4v"
      },
      "outputs": [],
      "source": [
        "def hyperparameter_search(train_dataset, val_dataset, device):\n",
        "    hidden_sizes = [32, 64, 128, 256]\n",
        "    learning_rates = [0.0001, 0.001, 0.01, 0.1]\n",
        "    best_val_acc = 0.0\n",
        "    best_params = None\n",
        "    best_model = None\n",
        "\n",
        "    for hs in hidden_sizes:\n",
        "        for lr in learning_rates:\n",
        "            model = MLP(28*28, hs, 10).to(device)\n",
        "            criterion = nn.CrossEntropyLoss()\n",
        "            optimizer = optim.Adam(model.parameters(), lr=lr)\n",
        "            train_loader = DataLoader(train_dataset, batch_size=64, shuffle=True)\n",
        "            val_loader = DataLoader(val_dataset, batch_size=64, shuffle=False)\n",
        "            \n",
        "            for epoch in range(5):\n",
        "                train_loss = train_model(model, train_loader, criterion, optimizer, device)\n",
        "\n",
        "            val_acc = evaluate_model(model, val_loader, device)\n",
        "            print(f\"Hidden Size: {hs}, LR: {lr}, Val Accuracy: {val_acc:.4f}\")\n",
        "            if val_acc > best_val_acc:\n",
        "                best_val_acc = val_acc\n",
        "                best_params = (hs, lr)\n",
        "                best_model = model\n",
        "\n",
        "    print(\"Best Hyperparameters:\", best_params, \"with validation accuracy:\", best_val_acc)\n",
        "    return best_model, best_params"
      ]
    },
    {
      "cell_type": "code",
      "execution_count": 11,
      "metadata": {
        "id": "F8D7h9X33cGG"
      },
      "outputs": [],
      "source": [
        "device = torch.device(\"cuda\" if torch.cuda.is_available() else \"cpu\")"
      ]
    },
    {
      "cell_type": "code",
      "execution_count": null,
      "metadata": {
        "id": "yGWypPac5_ac"
      },
      "outputs": [],
      "source": [
        "transform = transforms.Compose([\n",
        "        transforms.ToTensor(),\n",
        "        transforms.Lambda(lambda x: x.view(-1))\n",
        "    ])"
      ]
    },
    {
      "cell_type": "code",
      "execution_count": 16,
      "metadata": {
        "id": "K_nw1Tki6DrV"
      },
      "outputs": [],
      "source": [
        "train_data_path = '/Users/user/Downloads/MNIST-full/train'\n",
        "train_tsv = '/Users/user/Downloads/MNIST-full/gt-train.tsv'\n",
        "full_train_dataset = MNISTDataset(root_dir='/Users/user/Downloads/MNIST-full/', tsv_file='/Users/user/Downloads/MNIST-full/gt-train.tsv', transform=transform)\n",
        "\n",
        "# Split into training and validation sets\n",
        "indices = list(range(len(full_train_dataset)))\n",
        "train_indices, val_indices = train_test_split(indices, test_size=0.1, random_state=42)\n",
        "train_subset = torch.utils.data.Subset(full_train_dataset, train_indices)\n",
        "val_subset = torch.utils.data.Subset(full_train_dataset, val_indices)\n"
      ]
    },
    {
      "cell_type": "code",
      "execution_count": 17,
      "metadata": {
        "colab": {
          "base_uri": "https://localhost:8080/",
          "height": 282
        },
        "id": "FlxKHoca4gLD",
        "outputId": "40abd28e-b1cc-466f-a97e-adb6d92aef2e"
      },
      "outputs": [
        {
          "name": "stdout",
          "output_type": "stream",
          "text": [
            "Hidden Size: 32, LR: 0.0001, Val Accuracy: 0.9063\n",
            "Hidden Size: 32, LR: 0.001, Val Accuracy: 0.9527\n",
            "Hidden Size: 32, LR: 0.01, Val Accuracy: 0.9542\n",
            "Hidden Size: 32, LR: 0.1, Val Accuracy: 0.7713\n",
            "Hidden Size: 64, LR: 0.0001, Val Accuracy: 0.9155\n",
            "Hidden Size: 64, LR: 0.001, Val Accuracy: 0.9617\n",
            "Hidden Size: 64, LR: 0.01, Val Accuracy: 0.9545\n",
            "Hidden Size: 64, LR: 0.1, Val Accuracy: 0.4602\n",
            "Hidden Size: 128, LR: 0.0001, Val Accuracy: 0.9210\n",
            "Hidden Size: 128, LR: 0.001, Val Accuracy: 0.9728\n",
            "Hidden Size: 128, LR: 0.01, Val Accuracy: 0.9640\n",
            "Hidden Size: 128, LR: 0.1, Val Accuracy: 0.5757\n",
            "Hidden Size: 256, LR: 0.0001, Val Accuracy: 0.9365\n",
            "Hidden Size: 256, LR: 0.001, Val Accuracy: 0.9700\n",
            "Hidden Size: 256, LR: 0.01, Val Accuracy: 0.9627\n",
            "Hidden Size: 256, LR: 0.1, Val Accuracy: 0.7300\n",
            "Best Hyperparameters: (128, 0.001) with validation accuracy: 0.9728333333333333\n"
          ]
        }
      ],
      "source": [
        "best_model, best_params = hyperparameter_search(train_subset, val_subset, device)"
      ]
    },
    {
      "cell_type": "code",
      "execution_count": 18,
      "metadata": {
        "id": "tDv_zhPH8J72"
      },
      "outputs": [
        {
          "name": "stdout",
          "output_type": "stream",
          "text": [
            "Test Accuracy: 0.9738\n"
          ]
        }
      ],
      "source": [
        "test_dataset = MNISTDataset(root_dir='/Users/user/Downloads/MNIST-full/', tsv_file='/Users/user/Downloads/MNIST-full/gt-test.tsv', transform=transform)\n",
        "test_loader = DataLoader(test_dataset, batch_size=64, shuffle=False)\n",
        "test_acc = evaluate_model(best_model, test_loader, device)\n",
        "print(f\"Test Accuracy: {test_acc:.4f}\")"
      ]
    }
  ],
  "metadata": {
    "colab": {
      "provenance": []
    },
    "kernelspec": {
      "display_name": "Python 3",
      "name": "python3"
    },
    "language_info": {
      "name": "python"
    }
  },
  "nbformat": 4,
  "nbformat_minor": 0
}
